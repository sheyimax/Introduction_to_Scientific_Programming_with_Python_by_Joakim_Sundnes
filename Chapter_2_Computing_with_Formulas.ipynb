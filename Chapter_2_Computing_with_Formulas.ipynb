{
 "cells": [
  {
   "cell_type": "code",
   "execution_count": 9,
   "id": "ff63f8bd",
   "metadata": {},
   "outputs": [
    {
     "name": "stdout",
     "output_type": "stream",
     "text": [
      "140.71004226562505\n"
     ]
    }
   ],
   "source": [
    "# 2.1 programming simple mathematics\n",
    "\n",
    "P = 100\n",
    "r = 5.00\n",
    "n = 7\n",
    "A = P*(1 + (r/100))**n\n",
    "\n",
    "print(A)"
   ]
  },
  {
   "cell_type": "code",
   "execution_count": 20,
   "id": "8658206e",
   "metadata": {},
   "outputs": [
    {
     "name": "stdout",
     "output_type": "stream",
     "text": [
      "<class 'int'>\n"
     ]
    }
   ],
   "source": [
    "# 2.2 variables and variable types, from 2.1\n",
    "\n",
    "# program for computing the growth of money deposited in a bank\n",
    "primary = 100       # initial amount\n",
    "r = 5.0             # interest rate in %\n",
    "n = 7               # the number of years \n",
    "amount = primary * (1+r/100)**n\n",
    "\n",
    "print(type(primary))"
   ]
  },
  {
   "cell_type": "code",
   "execution_count": 14,
   "id": "3e8cf18f",
   "metadata": {},
   "outputs": [
    {
     "name": "stdout",
     "output_type": "stream",
     "text": [
      "0.7\n"
     ]
    }
   ],
   "source": [
    "t = 0.6\n",
    "t = t + 0.1\n",
    "print(t)"
   ]
  },
  {
   "cell_type": "code",
   "execution_count": 21,
   "id": "c626d072",
   "metadata": {},
   "outputs": [
    {
     "name": "stdout",
     "output_type": "stream",
     "text": [
      "True\n"
     ]
    }
   ],
   "source": [
    "a = 5\n",
    "print(a == 5)"
   ]
  },
  {
   "cell_type": "code",
   "execution_count": 32,
   "id": "116aa936",
   "metadata": {},
   "outputs": [
    {
     "name": "stdout",
     "output_type": "stream",
     "text": [
      "Hello, World! Hello, World! \n",
      "Hello, World! Hello, World! Hello, World! Hello, World! Hello, World! \n"
     ]
    }
   ],
   "source": [
    "hello = \"Hello, World! \"\n",
    "print(hello + hello)\n",
    "print(hello*5)"
   ]
  },
  {
   "cell_type": "code",
   "execution_count": 42,
   "id": "038363cd",
   "metadata": {},
   "outputs": [
    {
     "name": "stdout",
     "output_type": "stream",
     "text": [
      "4\n",
      "4.0\n",
      "<class 'float'>\n"
     ]
    }
   ],
   "source": [
    "x1 = 2\n",
    "x2 = \"2\"\n",
    "x2 = float(x2)\n",
    "\n",
    "print(x1 * x1)\n",
    "print(x2 + x2)\n",
    "print(type(x2))"
   ]
  },
  {
   "cell_type": "code",
   "execution_count": 46,
   "id": "124004aa",
   "metadata": {},
   "outputs": [
    {
     "name": "stdout",
     "output_type": "stream",
     "text": [
      "100 140.71004226562505\n",
      "After 7 years, 100 EUR has grown to 140.71004226562505 EUR.\n"
     ]
    }
   ],
   "source": [
    "# 2.3 Formatting Text Output\n",
    "\n",
    "print(primary, amount)\n",
    "print(f\"After {n} years, 100 EUR has grown to {amount} EUR.\")"
   ]
  },
  {
   "cell_type": "code",
   "execution_count": 49,
   "id": "e53ad25b",
   "metadata": {},
   "outputs": [
    {
     "name": "stdout",
     "output_type": "stream",
     "text": [
      "2+2 = 4\n"
     ]
    }
   ],
   "source": [
    "print(f\"2+2 = {2+2}\")"
   ]
  },
  {
   "cell_type": "code",
   "execution_count": 81,
   "id": "173c33ff",
   "metadata": {},
   "outputs": [
    {
     "name": "stdout",
     "output_type": "stream",
     "text": [
      "Default output gives 1.234567.\n",
      "We can set the precision: t = 1.2.\n",
      "We can set the precision: t = 1.235.\n",
      "Or control the number of decimals: t = 1.23.\n",
      "Or control the number of decimals: t = 1.2346.\n"
     ]
    }
   ],
   "source": [
    "# Decimal places and Significant figures\n",
    "\n",
    "t = 1.234567\n",
    "print(f\"Default output gives {t}.\")\n",
    "print(f\"We can set the precision: t = {t:.2}.\") # Means in 2 Significant figures\n",
    "print(f\"We can set the precision: t = {t:.4}.\") # Means in 4 S.F\n",
    "print(f\"Or control the number of decimals: t = {t:.2f}.\") # Means in Decimal place\n",
    "print(f\"Or control the number of decimals: t = {t:.4f}.\") #Means in 4 D.P"
   ]
  },
  {
   "cell_type": "code",
   "execution_count": 69,
   "id": "b30d34df",
   "metadata": {},
   "outputs": [
    {
     "name": "stdout",
     "output_type": "stream",
     "text": [
      "We may set the space used for the output: t =     1.23.\n"
     ]
    }
   ],
   "source": [
    "# Spacing\n",
    "\n",
    "print(f\"We may set the space used for the output: t = {t:8.2f}.\")"
   ]
  },
  {
   "cell_type": "code",
   "execution_count": 84,
   "id": "d89e9560",
   "metadata": {},
   "outputs": [
    {
     "name": "stdout",
     "output_type": "stream",
     "text": [
      "Integer set to occupy exactly 8 chars of space: r =       87\n"
     ]
    }
   ],
   "source": [
    "r = 87\n",
    "print(f\"Integer set to occupy exactly 8 chars of space: r = {r:8}\")"
   ]
  },
  {
   "cell_type": "code",
   "execution_count": 92,
   "id": "194d6fdf",
   "metadata": {},
   "outputs": [
    {
     "name": "stdout",
     "output_type": "stream",
     "text": [
      "Without the format specifier: a = 786345687.12, b = 1.2345.\n",
      "Without the format specifier: a = 7.86346e+08, b = 1.2345.\n"
     ]
    }
   ],
   "source": [
    "# Generic format specifier \"g\"\n",
    "\n",
    "a = 786345687.12\n",
    "b = 1.2345\n",
    "print(f\"Without the format specifier: a = {a}, b = {b}.\")\n",
    "print(f\"Without the format specifier: a = {a:g}, b = {b:g}.\")"
   ]
  },
  {
   "cell_type": "code",
   "execution_count": 95,
   "id": "40d7c2d3",
   "metadata": {},
   "outputs": [
    {
     "name": "stdout",
     "output_type": "stream",
     "text": [
      "1.4142135623730951\n"
     ]
    }
   ],
   "source": [
    "# 2.4 Importing Modules\n",
    "\n",
    "import math\n",
    "r = math.sqrt(2)  \n",
    "print(r)"
   ]
  },
  {
   "cell_type": "code",
   "execution_count": 98,
   "id": "4a86fc13",
   "metadata": {},
   "outputs": [
    {
     "name": "stdout",
     "output_type": "stream",
     "text": [
      "1.4142135623730951\n"
     ]
    }
   ],
   "source": [
    "# Or\n",
    "\n",
    "from math import sqrt\n",
    "r = sqrt(2)\n",
    "print(r)"
   ]
  },
  {
   "cell_type": "code",
   "execution_count": 101,
   "id": "85dcd885",
   "metadata": {},
   "outputs": [
    {
     "name": "stdout",
     "output_type": "stream",
     "text": [
      "1.4142135623730951\n"
     ]
    }
   ],
   "source": [
    "# Or \n",
    "\n",
    "from math import *  #This import everything in math\n",
    "r = sqrt(2)\n",
    "print(r)"
   ]
  },
  {
   "cell_type": "code",
   "execution_count": 108,
   "id": "96e52771",
   "metadata": {},
   "outputs": [
    {
     "name": "stdout",
     "output_type": "stream",
     "text": [
      "0.24894777997569387\n",
      "The Guassian bell-shaped value will be 0.248948.\n"
     ]
    }
   ],
   "source": [
    "from math import sqrt, pi, exp\n",
    "m = 0\n",
    "s = 2\n",
    "x = 1.0\n",
    "f = 1/sqrt(2*pi*s) * exp(-0.5*((x-m)/s)**2)\n",
    "print(f)\n",
    "print(f\"The Guassian bell-shaped value will be {f:g}.\")"
   ]
  },
  {
   "cell_type": "code",
   "execution_count": 113,
   "id": "d7ec0ee3",
   "metadata": {},
   "outputs": [
    {
     "name": "stdout",
     "output_type": "stream",
     "text": [
      "['__doc__', '__loader__', '__name__', '__package__', '__spec__', 'acos', 'acosh', 'asin', 'asinh', 'atan', 'atan2', 'atanh', 'ceil', 'comb', 'copysign', 'cos', 'cosh', 'degrees', 'dist', 'e', 'erf', 'erfc', 'exp', 'expm1', 'fabs', 'factorial', 'floor', 'fmod', 'frexp', 'fsum', 'gamma', 'gcd', 'hypot', 'inf', 'isclose', 'isfinite', 'isinf', 'isnan', 'isqrt', 'lcm', 'ldexp', 'lgamma', 'log', 'log10', 'log1p', 'log2', 'modf', 'nan', 'nextafter', 'perm', 'pi', 'pow', 'prod', 'radians', 'remainder', 'sin', 'sinh', 'sqrt', 'tan', 'tanh', 'tau', 'trunc', 'ulp']\n"
     ]
    }
   ],
   "source": [
    "import math\n",
    "print(dir(math))"
   ]
  },
  {
   "cell_type": "code",
   "execution_count": 123,
   "id": "499f9bd8",
   "metadata": {},
   "outputs": [
    {
     "name": "stdout",
     "output_type": "stream",
     "text": [
      " sin(x) = 0.8939966636005579, cos(x) = -0.4480736161291701 and tan(x) = -1.995200412208242\n"
     ]
    }
   ],
   "source": [
    "from math import sin, cos\n",
    "x = 90\n",
    "y = sin(x)\n",
    "z = cos(x)\n",
    "a = tan(x)\n",
    "print(f\" sin(x) = {y}, cos(x) = {z} and tan(x) = {a}\")"
   ]
  },
  {
   "cell_type": "code",
   "execution_count": 126,
   "id": "492d69df",
   "metadata": {},
   "outputs": [
    {
     "name": "stdout",
     "output_type": "stream",
     "text": [
      "0.9999999999999999 1.0000000000000000\n",
      "False\n",
      "True\n"
     ]
    }
   ],
   "source": [
    "v1 = 1/49.0 * 49\n",
    "v2 = 1/51 * 51\n",
    "print(f\"{v1:.16f} {v2:.16f}\")\n",
    "print(v1 ==1)\n",
    "print(v2 ==1)"
   ]
  },
  {
   "cell_type": "code",
   "execution_count": 142,
   "id": "f501676c",
   "metadata": {},
   "outputs": [
    {
     "name": "stdout",
     "output_type": "stream",
     "text": [
      "True\n",
      "True\n"
     ]
    }
   ],
   "source": [
    "# Using tolerance for setting values\n",
    "\n",
    "tol = 1e-14\n",
    "print(abs(v1-1) < tol)\n",
    "print(abs(v2-1) < tol)"
   ]
  },
  {
   "cell_type": "code",
   "execution_count": null,
   "id": "34aab427",
   "metadata": {},
   "outputs": [],
   "source": []
  }
 ],
 "metadata": {
  "kernelspec": {
   "display_name": "Python 3 (ipykernel)",
   "language": "python",
   "name": "python3"
  },
  "language_info": {
   "codemirror_mode": {
    "name": "ipython",
    "version": 3
   },
   "file_extension": ".py",
   "mimetype": "text/x-python",
   "name": "python",
   "nbconvert_exporter": "python",
   "pygments_lexer": "ipython3",
   "version": "3.10.9"
  }
 },
 "nbformat": 4,
 "nbformat_minor": 5
}
