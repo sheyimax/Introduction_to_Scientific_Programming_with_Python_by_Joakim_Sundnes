{
 "cells": [
  {
   "cell_type": "code",
   "execution_count": 3,
   "id": "8bcd70e4",
   "metadata": {
    "scrolled": true
   },
   "outputs": [
    {
     "name": "stdout",
     "output_type": "stream",
     "text": [
      "Hello world\n"
     ]
    }
   ],
   "source": [
    "print(\"Hello world\")"
   ]
  },
  {
   "cell_type": "code",
   "execution_count": 8,
   "id": "0d692c92",
   "metadata": {},
   "outputs": [
    {
     "name": "stdout",
     "output_type": "stream",
     "text": [
      "50\n"
     ]
    }
   ],
   "source": [
    "mike = 26\n",
    "deb = 23\n",
    "mike = 50\n",
    "print(mike)"
   ]
  },
  {
   "cell_type": "code",
   "execution_count": 19,
   "id": "444ddd61",
   "metadata": {},
   "outputs": [
    {
     "name": "stdout",
     "output_type": "stream",
     "text": [
      "what is your name? michael\n"
     ]
    },
    {
     "data": {
      "text/plain": [
       "'michael'"
      ]
     },
     "execution_count": 19,
     "metadata": {},
     "output_type": "execute_result"
    }
   ],
   "source": [
    "input(\"what is your name? \")"
   ]
  },
  {
   "cell_type": "code",
   "execution_count": 21,
   "id": "15ee5669",
   "metadata": {},
   "outputs": [
    {
     "name": "stdout",
     "output_type": "stream",
     "text": [
      "What is your name? Debby\n",
      "Hello Debby\n"
     ]
    }
   ],
   "source": [
    "name = input(\"What is your name? \")\n",
    "print(\"Hello \" + name)"
   ]
  },
  {
   "cell_type": "code",
   "execution_count": 29,
   "id": "d7ce12ca",
   "metadata": {},
   "outputs": [
    {
     "name": "stdout",
     "output_type": "stream",
     "text": [
      "What your name? Yinks\n",
      "What is your age? 29\n",
      "Are you a new/old patient? new\n",
      "You are welcome to CareWorld Hospital Yinks.\n",
      "its good to have you here.\n"
     ]
    }
   ],
   "source": [
    "name = input(\"What your name? \")\n",
    "age = input(\"What is your age? \")\n",
    "Id = input(\"Are you a new/old patient? \")\n",
    "print(\"You are welcome to CareWorld Hospital \" + name+\".\")\n",
    "print(\"its good to have you here.\")"
   ]
  },
  {
   "cell_type": "code",
   "execution_count": 3,
   "id": "85c39f09",
   "metadata": {},
   "outputs": [
    {
     "name": "stdout",
     "output_type": "stream",
     "text": [
      "What is your birth year? 1969\n",
      "Your are 54 years old.\n"
     ]
    }
   ],
   "source": [
    "birth_year = input(\"What is your birth year? \")\n",
    "age = 2023 - int(birth_year)\n",
    "print(f\"Your are {age} years old.\")"
   ]
  },
  {
   "cell_type": "code",
   "execution_count": 5,
   "id": "43f3ed03",
   "metadata": {},
   "outputs": [
    {
     "name": "stdout",
     "output_type": "stream",
     "text": [
      "First:10\n",
      "Second:20\n",
      "Sum: 30.0\n"
     ]
    }
   ],
   "source": [
    "x = input(\"First:\")\n",
    "y = input(\"Second:\")\n",
    "Sum = float(x) + float(y)\n",
    "print(f\"Sum: {Sum}\")"
   ]
  }
 ],
 "metadata": {
  "kernelspec": {
   "display_name": "Python 3 (ipykernel)",
   "language": "python",
   "name": "python3"
  },
  "language_info": {
   "codemirror_mode": {
    "name": "ipython",
    "version": 3
   },
   "file_extension": ".py",
   "mimetype": "text/x-python",
   "name": "python",
   "nbconvert_exporter": "python",
   "pygments_lexer": "ipython3",
   "version": "3.10.9"
  }
 },
 "nbformat": 4,
 "nbformat_minor": 5
}
