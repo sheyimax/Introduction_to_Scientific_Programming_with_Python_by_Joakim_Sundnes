{
 "cells": [
  {
   "cell_type": "code",
   "execution_count": 2,
   "id": "df9a6d5d",
   "metadata": {},
   "outputs": [
    {
     "name": "stdout",
     "output_type": "stream",
     "text": [
      "p: 34.8773\n"
     ]
    }
   ],
   "source": [
    "# 5.1 Reading User Input Data\n",
    "\n",
    "# given an estimate of the atmospheric pressure p as a function of altitude h, Let's evaluate the formula using python\n",
    "\n",
    "from math import exp\n",
    "\n",
    "p0 = 100.0           #sea level pressure (kpa)\n",
    "h0 = 8400            #scale height (m)\n",
    "\n",
    "h = 8848\n",
    "p = p0 * exp(-h/h0)\n",
    "\n",
    "print(f'p: {p:3g}')"
   ]
  },
  {
   "cell_type": "code",
   "execution_count": 24,
   "id": "a42c1b8f",
   "metadata": {},
   "outputs": [
    {
     "name": "stdout",
     "output_type": "stream",
     "text": [
      "Input the altitude (in meters):100\n",
      "98.81658194110152\n"
     ]
    }
   ],
   "source": [
    "# Obtaining input from questions and answers\n",
    "from math import exp\n",
    "\n",
    "h = input('Input the altitude (in meters):')\n",
    "h = float(h)\n",
    "\n",
    "p0 = 100.0                                 #sea level pressure (kPa)\n",
    "h0 = 8400                                  #scale height\n",
    "\n",
    "p = p0 * exp(-h/h0)\n",
    "\n",
    "print(p)"
   ]
  },
  {
   "cell_type": "code",
   "execution_count": 32,
   "id": "404fa593",
   "metadata": {},
   "outputs": [
    {
     "name": "stdout",
     "output_type": "stream",
     "text": [
      "n=? 3\n",
      "2\n",
      "4\n",
      "6\n"
     ]
    }
   ],
   "source": [
    "n = int(input('n=? '))\n",
    "\n",
    "for i in range(1, n+1):\n",
    "    print(2*i)"
   ]
  },
  {
   "cell_type": "code",
   "execution_count": 40,
   "id": "a53bf828",
   "metadata": {},
   "outputs": [
    {
     "name": "stdout",
     "output_type": "stream",
     "text": [
      "3\n",
      "<class 'int'>\n"
     ]
    }
   ],
   "source": [
    "# 5.2 Flexible User Input with eval and exec\n",
    "\n",
    "s = '1+2'\n",
    "r = eval(s)\n",
    "print(r)\n",
    "\n",
    "print(type(r))"
   ]
  },
  {
   "cell_type": "code",
   "execution_count": 44,
   "id": "4e91d4ce",
   "metadata": {},
   "outputs": [
    {
     "name": "stdout",
     "output_type": "stream",
     "text": [
      "[1, 6, 7.5, 1, 2]\n",
      "<class 'list'>\n"
     ]
    }
   ],
   "source": [
    "# Using eval function for strings in form of list\n",
    "\n",
    "r = eval('[1, 6, 7.5] + [1, 2]')\n",
    "print(r)\n",
    "\n",
    "print(type(r))"
   ]
  },
  {
   "cell_type": "code",
   "execution_count": 8,
   "id": "e4bb5082",
   "metadata": {},
   "outputs": [
    {
     "name": "stdout",
     "output_type": "stream",
     "text": [
      "operand 1: 1\n",
      "operand 2: 2.8\n",
      "<class 'int'> + <class 'float'> becomes <class 'float'> with value 3.8\n"
     ]
    }
   ],
   "source": [
    "# Using eval to store and solve operand\n",
    "\n",
    "i1 = eval(input('operand 1: '))\n",
    "i2 = eval(input('operand 2: '))\n",
    "r = i1 + i2\n",
    "\n",
    "print(f'{type(i1)} + {type(i2)} becomes {type(r)} with value{r:4.1f}')"
   ]
  },
  {
   "cell_type": "code",
   "execution_count": 15,
   "id": "ab9ec736",
   "metadata": {},
   "outputs": [
    {
     "name": "stdout",
     "output_type": "stream",
     "text": [
      "operand 1: 'one'\n",
      "operand 2: 'two'\n",
      "<class 'str'> + <class 'str'> becomes <class 'str'> with value onetwo\n"
     ]
    }
   ],
   "source": [
    "# entering list as our input\n",
    "\n",
    "i1 = eval(input('operand 1: '))\n",
    "i2 = eval(input('operand 2: '))\n",
    "r = i1 + i2\n",
    "\n",
    "print(f'{type(i1)} + {type(i2)} becomes {type(r)} with value {r:6}')"
   ]
  },
  {
   "cell_type": "code",
   "execution_count": 18,
   "id": "9a1d8004",
   "metadata": {},
   "outputs": [
    {
     "name": "stdout",
     "output_type": "stream",
     "text": [
      "2 2\n"
     ]
    }
   ],
   "source": [
    "# Using exec function in a program(differences betwween eval & exec)\n",
    "\n",
    "expression = '1+1'            #store expression in a string\n",
    "statement = 'r = 1+1'         #store statement in a string\n",
    "q = eval(expression)\n",
    "exec(statement)\n",
    "\n",
    "print(q, r)                   #results are the same"
   ]
  },
  {
   "cell_type": "code",
   "execution_count": 3,
   "id": "255050a4",
   "metadata": {},
   "outputs": [
    {
     "name": "stdout",
     "output_type": "stream",
     "text": [
      "Write a formula involving x: sin(x) + 2*cos(x)\n",
      "Give x(None to quit): 90\n",
      "f(90)=-0.0021505686577824035\n",
      "Give x(None to quit): \n"
     ]
    },
    {
     "ename": "SyntaxError",
     "evalue": "invalid syntax (<string>, line 0)",
     "output_type": "error",
     "traceback": [
      "Traceback \u001b[1;36m(most recent call last)\u001b[0m:\n",
      "\u001b[0m  File \u001b[0;32mC:\\ProgramData\\anaconda3\\lib\\site-packages\\IPython\\core\\interactiveshell.py:3460\u001b[0m in \u001b[0;35mrun_code\u001b[0m\n    exec(code_obj, self.user_global_ns, self.user_ns)\u001b[0m\n",
      "\u001b[1;36m  Cell \u001b[1;32mIn[3], line 16\u001b[1;36m\n\u001b[1;33m    x = eval(input('Give x(None to quit): '))\u001b[1;36m\n",
      "\u001b[1;36m  File \u001b[1;32m<string>\u001b[1;36m\u001b[0m\n\u001b[1;33m    \u001b[0m\n\u001b[1;37m    ^\u001b[0m\n\u001b[1;31mSyntaxError\u001b[0m\u001b[1;31m:\u001b[0m invalid syntax\n"
     ]
    }
   ],
   "source": [
    "# using exec to execute multiple statements\n",
    "\n",
    "formula = input('Write a formula involving x: ')\n",
    "code = f\"\"\"\n",
    "def f(x):\n",
    "    return {formula}\n",
    "\"\"\"\n",
    "from math import *                      #make sure we have sin, cos, log, etc.\n",
    "exec(code)                              #turn string formula into live function\n",
    "\n",
    "\n",
    "#Now the function is defined, and we can ask the\n",
    "#user for x values and eveluate f(x)\n",
    "x = 0\n",
    "while x is not None:\n",
    "    x = eval(input('Give x(None to quit): '))\n",
    "    if x is not None:\n",
    "        y = f(x)\n",
    "        print(f'f({x})={y}')"
   ]
  },
  {
   "cell_type": "code",
   "execution_count": 4,
   "id": "4d6a1e61",
   "metadata": {},
   "outputs": [
    {
     "ename": "NameError",
     "evalue": "name 'formula' is not defined",
     "output_type": "error",
     "traceback": [
      "\u001b[1;31m---------------------------------------------------------------------------\u001b[0m",
      "\u001b[1;31mNameError\u001b[0m                                 Traceback (most recent call last)",
      "Cell \u001b[1;32mIn[4], line 5\u001b[0m\n\u001b[0;32m      1\u001b[0m \u001b[38;5;28;01mfrom\u001b[39;00m \u001b[38;5;21;01mmath\u001b[39;00m \u001b[38;5;28;01mimport\u001b[39;00m \u001b[38;5;241m*\u001b[39m\n\u001b[0;32m      3\u001b[0m code \u001b[38;5;241m=\u001b[39m \u001b[38;5;124mf\u001b[39m\u001b[38;5;124m\"\"\"\u001b[39m\n\u001b[0;32m      4\u001b[0m \u001b[38;5;124mdef f(x):\u001b[39m\n\u001b[1;32m----> 5\u001b[0m \u001b[38;5;124m    return \u001b[39m\u001b[38;5;132;01m{\u001b[39;00mformula\u001b[38;5;132;01m}\u001b[39;00m\n\u001b[0;32m      6\u001b[0m \u001b[38;5;124m\"\"\"\u001b[39m\n\u001b[0;32m      8\u001b[0m exec(code)\n\u001b[0;32m      9\u001b[0m x \u001b[38;5;241m=\u001b[39m \u001b[38;5;28mfloat\u001b[39m(x)\n",
      "\u001b[1;31mNameError\u001b[0m: name 'formula' is not defined"
     ]
    }
   ],
   "source": [
    "from math import *\n",
    "\n",
    "code = f\"\"\"\n",
    "def f(x):\n",
    "    return {formula}\n",
    "\"\"\"\n",
    "\n",
    "exec(code)\n",
    "x = float(x)\n",
    "\n",
    "def numerical_derivative(f, x, h=1E-5):\n",
    "    return (f(x+h) - f(x-h))/(2*h)\n",
    "\n",
    "print(f'Numerical derivative: {numerical_derivative(f, x)}')"
   ]
  },
  {
   "cell_type": "code",
   "execution_count": 6,
   "id": "1f97c617",
   "metadata": {},
   "outputs": [
    {
     "name": "stdout",
     "output_type": "stream",
     "text": [
      "The mean value is 20.95\n"
     ]
    }
   ],
   "source": [
    "# To compute for the mean of the data in the Python_file\n",
    "\n",
    "import os\n",
    "\n",
    "infile = open('C:/Users/Sheyi_max/Desktop/ML/ML_Datasheet_Excel _Sample/Python_file.txt', 'r')\n",
    "mean = 0\n",
    "lines = 0\n",
    "\n",
    "for line in infile:\n",
    "    number = float(line)\n",
    "    mean = mean + number\n",
    "    lines += 1\n",
    "mean = mean/lines\n",
    "\n",
    "print(f'The mean value is {mean}')"
   ]
  },
  {
   "cell_type": "code",
   "execution_count": 9,
   "id": "fe5943f0",
   "metadata": {},
   "outputs": [
    {
     "name": "stdout",
     "output_type": "stream",
     "text": [
      "['This', 'is', 'a', 'typical', 'string']\n",
      "['Excel;sheets;often;use;semicolon;as;seperator']\n",
      "['Excel', 'sheets', 'often', 'use', 'semicolon', 'as', 'seperator']\n"
     ]
    }
   ],
   "source": [
    "# Splitting of words\n",
    "\n",
    "s = \"This is a typical string\"\n",
    "csvline = \"Excel;sheets;often;use;semicolon;as;seperator\"\n",
    "print(s.split())\n",
    "print(csvline.split())\n",
    "print(csvline.split(';'))"
   ]
  },
  {
   "cell_type": "code",
   "execution_count": 18,
   "id": "6a82e26a",
   "metadata": {},
   "outputs": [],
   "source": [
    "import os\n",
    "\n",
    "file = open('C:/Users/Sheyi_max/Desktop/ML/ML_Datasheet_Excel _Sample/Rainfall.txt', 'w')\n",
    "\n",
    "#for data in file:\n",
    "file.write('Average rainfall (in mm) in Rome: 1188 months between 1782 and 1970' + '\\n')\n",
    "file.write('Jan 81.2' + '\\n')\n",
    "file.write('Feb 63.2' + '\\n')\n",
    "file.write('Mar 70.3' + '\\n')\n",
    "file.write('Apr 55.7' + '\\n')\n",
    "file.write('May 53.0' + '\\n')\n",
    "file.write('Jun 36.4' + '\\n')\n",
    "file.write('Jul 17.5' + '\\n')\n",
    "file.write('Aug 27.5' + '\\n')\n",
    "file.write('Sep 60.9' + '\\n')\n",
    "file.write('Oct 117.7' + '\\n')\n",
    "file.write('Nov 111.0' + '\\n')\n",
    "file.write('Dec 97.9' + '\\n')\n",
    "file.write('Year 792.9' + '\\n')\n",
    "\n",
    "\n",
    "file.close()"
   ]
  },
  {
   "cell_type": "code",
   "execution_count": 14,
   "id": "2cb450eb",
   "metadata": {},
   "outputs": [],
   "source": [
    "import os\n",
    "\n",
    "os.remove('C:/Users/Sheyi_max/Desktop/ML/ML_Datasheet_Excel _Sample/Rainfall.txt')"
   ]
  },
  {
   "cell_type": "code",
   "execution_count": 51,
   "id": "7aacd97e",
   "metadata": {},
   "outputs": [
    {
     "name": "stdout",
     "output_type": "stream",
     "text": [
      "The average rainfall for the months: \n",
      "Jan 81.2\n",
      "Feb 63.2\n",
      "Mar 70.3\n",
      "Apr 55.7\n",
      "May 53.0\n",
      "Jun 36.4\n",
      "Jul 17.5\n",
      "Aug 27.5\n",
      "Sep 60.9\n",
      "Oct 117.7\n",
      "Nov 111.0\n",
      "Dec 97.9\n",
      "The average rainfall for the year: 792.9\n"
     ]
    }
   ],
   "source": [
    "#To split a data which consists of strings and values\n",
    "\n",
    "def extract_data(Rainfall_data):\n",
    "    infile = open('C:/Users/Sheyi_max/Desktop/ML/ML_Datasheet_Excel _Sample/Rainfall_data.txt', 'r')\n",
    "    infile.readline()                       #skip the first line\n",
    "    months = []\n",
    "    rainfall = []\n",
    "\n",
    "    for line in infile:\n",
    "        words = line.split()                #splits into words\n",
    "        months.append(words[0])\n",
    "        rainfall.append(float(words[1]))\n",
    "    infile.close()\n",
    "    \n",
    "    months = months[:-1]                   #Drop the \"Year\" entry\n",
    "    annual_avg = rainfall[-1]              #Store the annual average\n",
    "    rainfall = rainfall[:-1]               #Redefine to contain monthly data\n",
    "    return months, rainfall, annual_avg\n",
    "\n",
    "months, values, avg = extract_data('rainfall.txt')\n",
    "print('The average rainfall for the months: ')\n",
    "for month, value in zip(months, values):\n",
    "    print(month, value)\n",
    "print('The average rainfall for the year:', avg)"
   ]
  },
  {
   "cell_type": "code",
   "execution_count": 44,
   "id": "e7cc90c6",
   "metadata": {},
   "outputs": [],
   "source": [
    "# 5.4 Writing Data to Files\n",
    "\n",
    "import os\n",
    "\n",
    "file = open('C:/Users/Sheyi_max/Desktop/ML/ML_Datasheet_Excel _Sample/Outfile.txt', 'w')\n",
    "\n",
    "file.write('data \\= [[ 0.75, 0.29619813, -0.29619813, -0.75 ],[ 0.29619813, 0.11697778, -0.11697778, -0.29619813],[-0.29619813, -0.11697778, 0.11697778, 0.29619813],[-0.75, -0.29619813, 0.29619813, 0.75 ]]')\n",
    "file.close()"
   ]
  },
  {
   "cell_type": "code",
   "execution_count": 53,
   "id": "e030429f",
   "metadata": {},
   "outputs": [
    {
     "ename": "NameError",
     "evalue": "name 'data' is not defined",
     "output_type": "error",
     "traceback": [
      "\u001b[1;31m---------------------------------------------------------------------------\u001b[0m",
      "\u001b[1;31mNameError\u001b[0m                                 Traceback (most recent call last)",
      "Cell \u001b[1;32mIn[53], line 2\u001b[0m\n\u001b[0;32m      1\u001b[0m \u001b[38;5;28;01mwith\u001b[39;00m \u001b[38;5;28mopen\u001b[39m(\u001b[38;5;124m'\u001b[39m\u001b[38;5;124mC:/Users/Sheyi_max/Desktop/ML/ML_Datasheet_Excel _Sample/Outfile.txt\u001b[39m\u001b[38;5;124m'\u001b[39m, \u001b[38;5;124m'\u001b[39m\u001b[38;5;124mw\u001b[39m\u001b[38;5;124m'\u001b[39m) \u001b[38;5;28;01mas\u001b[39;00m outfile:\n\u001b[1;32m----> 2\u001b[0m     \u001b[38;5;28;01mfor\u001b[39;00m row \u001b[38;5;129;01min\u001b[39;00m \u001b[43mdata\u001b[49m:\n\u001b[0;32m      3\u001b[0m         \u001b[38;5;28;01mfor\u001b[39;00m column \u001b[38;5;129;01min\u001b[39;00m row:\n\u001b[0;32m      4\u001b[0m             outfile\u001b[38;5;241m.\u001b[39mwrite(\u001b[38;5;124mf\u001b[39m\u001b[38;5;124m'\u001b[39m\u001b[38;5;132;01m{\u001b[39;00mcolumn\u001b[38;5;132;01m:\u001b[39;00m\u001b[38;5;124m14.8f\u001b[39m\u001b[38;5;132;01m}\u001b[39;00m\u001b[38;5;124m'\u001b[39m)\n",
      "\u001b[1;31mNameError\u001b[0m: name 'data' is not defined"
     ]
    }
   ],
   "source": [
    "with open('C:/Users/Sheyi_max/Desktop/ML/ML_Datasheet_Excel _Sample/Outfile.txt', 'w') as outfile:\n",
    "    for row in data:\n",
    "        for column in row:\n",
    "            outfile.write(f'{column:14.8f}')\n",
    "        outfile.write('\\n')"
   ]
  },
  {
   "cell_type": "code",
   "execution_count": 2,
   "id": "a153f93d",
   "metadata": {},
   "outputs": [
    {
     "ename": "TypeError",
     "evalue": "object of type 'float' has no len()",
     "output_type": "error",
     "traceback": [
      "\u001b[1;31m---------------------------------------------------------------------------\u001b[0m",
      "\u001b[1;31mTypeError\u001b[0m                                 Traceback (most recent call last)",
      "Cell \u001b[1;32mIn[2], line 3\u001b[0m\n\u001b[0;32m      1\u001b[0m \u001b[38;5;28;01mimport\u001b[39;00m \u001b[38;5;21;01msys\u001b[39;00m\n\u001b[1;32m----> 3\u001b[0m \u001b[38;5;28;01mif\u001b[39;00m \u001b[38;5;28;43mlen\u001b[39;49m\u001b[43m(\u001b[49m\u001b[43mh\u001b[49m\u001b[43m)\u001b[49m \u001b[38;5;241m<\u001b[39m \u001b[38;5;241m2\u001b[39m:\n\u001b[0;32m      4\u001b[0m     \u001b[38;5;28mprint\u001b[39m(\u001b[38;5;124m'\u001b[39m\u001b[38;5;124mYou failed to provide a commmand linearg.!\u001b[39m\u001b[38;5;124m'\u001b[39m)\n\u001b[0;32m      5\u001b[0m     exit()                          \u001b[38;5;66;03m#abort\u001b[39;00m\n",
      "\u001b[1;31mTypeError\u001b[0m: object of type 'float' has no len()"
     ]
    }
   ],
   "source": [
    "import sys\n",
    "\n",
    "if len(h) < 2:\n",
    "    print('You failed to provide a commmand linearg.!')\n",
    "    exit()                          #abort\n",
    "    \n",
    "h = float(input('Input the altitude (in meters):'))\n",
    "\n",
    "p0 = 100.0; h0 = 8400\n",
    "print(p0 * exp(-h/h0))"
   ]
  },
  {
   "cell_type": "code",
   "execution_count": null,
   "id": "6b45ae77",
   "metadata": {},
   "outputs": [],
   "source": []
  }
 ],
 "metadata": {
  "kernelspec": {
   "display_name": "Python 3 (ipykernel)",
   "language": "python",
   "name": "python3"
  },
  "language_info": {
   "codemirror_mode": {
    "name": "ipython",
    "version": 3
   },
   "file_extension": ".py",
   "mimetype": "text/x-python",
   "name": "python",
   "nbconvert_exporter": "python",
   "pygments_lexer": "ipython3",
   "version": "3.10.9"
  }
 },
 "nbformat": 4,
 "nbformat_minor": 5
}
