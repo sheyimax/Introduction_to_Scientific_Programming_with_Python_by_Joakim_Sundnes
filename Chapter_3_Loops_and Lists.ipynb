{
 "cells": [
  {
   "cell_type": "code",
   "execution_count": 1,
   "id": "443788eb",
   "metadata": {},
   "outputs": [
    {
     "name": "stdout",
     "output_type": "stream",
     "text": [
      " 0        100.0000\n",
      " 1        105.0000\n",
      " 2        110.2500\n",
      " 3        115.7625\n",
      " 4        121.5506\n",
      " 5        127.6282\n",
      " 6        134.0096\n",
      " 7        140.7100\n",
      " 8        147.7455\n",
      " 9        155.1328\n",
      "10        162.8895\n"
     ]
    }
   ],
   "source": [
    "# 3.1 Loops for automating repetitive tasks\n",
    "\n",
    "P = 100\n",
    "r = 5.0\n",
    "n = 0\n",
    "while n <= 10:\n",
    "    A = P * (1+(r/100))**n\n",
    "    print(f\"{n:2} {A:15.4f}\")\n",
    "    n = n + 1\n"
   ]
  },
  {
   "cell_type": "code",
   "execution_count": 8,
   "id": "9c3581bc",
   "metadata": {},
   "outputs": [
    {
     "name": "stdout",
     "output_type": "stream",
     "text": [
      "True\n",
      "True\n",
      "False\n",
      "False\n",
      "False\n"
     ]
    }
   ],
   "source": [
    "# 3.2 Boolean expression\n",
    "\n",
    "t = 40\n",
    "print(t == 40)\n",
    "print(t >= 40)\n",
    "print(t != 40)\n",
    "print(t < 40)\n",
    "print(t > 40)\n"
   ]
  },
  {
   "cell_type": "code",
   "execution_count": 12,
   "id": "5cff302e",
   "metadata": {},
   "outputs": [
    {
     "name": "stdout",
     "output_type": "stream",
     "text": [
      "True\n",
      "True\n"
     ]
    }
   ],
   "source": [
    "t = 40\n",
    "c = 41\n",
    "print(c != 40)\n",
    "print(c > 40)"
   ]
  },
  {
   "cell_type": "code",
   "execution_count": 1,
   "id": "48efa4b5",
   "metadata": {},
   "outputs": [
    {
     "name": "stdout",
     "output_type": "stream",
     "text": [
      "False\n",
      "True\n",
      "True\n",
      "False\n",
      "True\n",
      "False\n"
     ]
    }
   ],
   "source": [
    "x = 0; y = 1.2\n",
    "print(x >= 0 and y < 1)\n",
    "print(x >= 0 or y < 1)\n",
    "print(x > 0 or y > 1)\n",
    "print(x > 0 or not y > 1)\n",
    "print(-1 < x <= 0) # same as -1 < x and x <= 0\n",
    "print(not (x > 0 or y > 0))"
   ]
  },
  {
   "cell_type": "code",
   "execution_count": 12,
   "id": "432a40f2",
   "metadata": {},
   "outputs": [
    {
     "name": "stdout",
     "output_type": "stream",
     "text": [
      "3\n",
      "sheyi is a good boy\n"
     ]
    }
   ],
   "source": [
    "# 3.3 Using Lists to store sequences of Data\n",
    "\n",
    "n = [0, 1, 2, 3, 4, 5, 6, 7, 8, 9, 10]\n",
    "L1 = [-91, \"sheyi is a good boy\", 7.2, 0]\n",
    "print(n[3])\n",
    "print(L1[1])"
   ]
  },
  {
   "cell_type": "code",
   "execution_count": 15,
   "id": "f283cbcb",
   "metadata": {},
   "outputs": [
    {
     "name": "stdout",
     "output_type": "stream",
     "text": [
      "4\n",
      "6\n",
      "-3.5\n"
     ]
    },
    {
     "data": {
      "text/plain": [
       "3"
      ]
     },
     "execution_count": 15,
     "metadata": {},
     "output_type": "execute_result"
    }
   ],
   "source": [
    "myList = [4, 6, -3.5]\n",
    "print(myList[0])\n",
    "print(myList[1])\n",
    "print(myList[2])\n",
    "len(myList)"
   ]
  },
  {
   "cell_type": "code",
   "execution_count": 24,
   "id": "2d6c946a",
   "metadata": {},
   "outputs": [
    {
     "name": "stdout",
     "output_type": "stream",
     "text": [
      "[0, 1, 2, 3, 4, 5, 6, 7, 8, 9]\n",
      "[0, 1, 2, 3, 4, 5, 6, 7, 8, 9, 10, 11]\n",
      "True\n",
      "[1, 2, 3, 4, 5, 6, 7, 8, 9, 10, 11]\n"
     ]
    }
   ],
   "source": [
    "n = [0, 1, 2, 3, 4, 5, 6, 7, 8]\n",
    "n.append(9)\n",
    "print(n)\n",
    "\n",
    "n = n + [10, 11]\n",
    "print(n)\n",
    "\n",
    "print(9 in n)\n",
    "\n",
    "del n[0]\n",
    "print(n)"
   ]
  },
  {
   "cell_type": "code",
   "execution_count": 2,
   "id": "5e9c78ea",
   "metadata": {},
   "outputs": [
    {
     "name": "stdout",
     "output_type": "stream",
     "text": [
      "[1, 2, 3, 4]\n",
      "[1, 2, 3, 4]\n",
      "[1, 2, 3, 6]\n",
      "[1, 2, 3, 6]\n"
     ]
    }
   ],
   "source": [
    "\n",
    "a = [1, 2, 3, 4]\n",
    "b = a  # if we want to create a copy of the original list, we used b = a.copy() \n",
    "print(a)\n",
    "print(b)\n",
    "b[-1] = 6\n",
    "print(a)\n",
    "print(b)"
   ]
  },
  {
   "cell_type": "code",
   "execution_count": 6,
   "id": "fbb60a2b",
   "metadata": {},
   "outputs": [
    {
     "name": "stdout",
     "output_type": "stream",
     "text": [
      "[1, 2, 3, 4]\n",
      "[1, 2, 3, 4]\n",
      "[1, 2, 3, 6] [1, 2, 3, 4]\n",
      "False\n"
     ]
    }
   ],
   "source": [
    "# Using a.copy() format\n",
    "\n",
    "a = [1, 2, 3, 4]\n",
    "b = a.copy()  # if we want to create a copy of the original list, we used b = a.copy() \n",
    "print(a)\n",
    "print(b)\n",
    "b[-1] = 6\n",
    "print(b, a)\n",
    "print(a == b)"
   ]
  },
  {
   "cell_type": "code",
   "execution_count": 3,
   "id": "fecc0d7a",
   "metadata": {},
   "outputs": [
    {
     "name": "stdout",
     "output_type": "stream",
     "text": [
      "15\n",
      "16\n",
      "17\n",
      "18\n",
      "19\n",
      "20\n",
      "21\n",
      "22\n",
      "23\n",
      "24\n",
      "25\n"
     ]
    }
   ],
   "source": [
    "# 3.4 Iterating Over a List with for Loop\n",
    "\n",
    "y = 5\n",
    "x = 10\n",
    "\n",
    "\n",
    "while x <= 20:\n",
    "    z = x + y\n",
    "    print(z)\n",
    "    x = x + 1\n"
   ]
  },
  {
   "cell_type": "code",
   "execution_count": 5,
   "id": "a0e0d5c9",
   "metadata": {},
   "outputs": [
    {
     "name": "stdout",
     "output_type": "stream",
     "text": [
      " 0        100.0000\n",
      " 1        105.0000\n",
      " 2        110.2500\n",
      " 3        115.7625\n",
      " 4        121.5506\n",
      " 5        127.6282\n",
      " 6        134.0096\n",
      " 7        140.7100\n",
      " 8        147.7455\n",
      " 9        155.1328\n",
      "10        162.8895\n"
     ]
    }
   ],
   "source": [
    "years = [0, 1, 2, 3, 4, 5, 6, 7, 8, 9, 10]\n",
    "r = 5.0\n",
    "P = 100.0\n",
    "for n in years:\n",
    "    A = P * (1+(r/100))**n\n",
    "    print(f\"{n:2} {A:15.4f}\")"
   ]
  },
  {
   "cell_type": "code",
   "execution_count": 7,
   "id": "95d0a8e8",
   "metadata": {},
   "outputs": [
    {
     "name": "stdout",
     "output_type": "stream",
     "text": [
      " 0        100.0000\n",
      " 1        105.0000\n",
      " 2        110.2500\n",
      " 3        115.7625\n",
      " 4        121.5506\n",
      " 5        127.6282\n",
      " 6        134.0096\n",
      " 7        140.7100\n",
      " 8        147.7455\n",
      " 9        155.1328\n",
      "10        162.8895\n"
     ]
    }
   ],
   "source": [
    "# Using the function range to loop over indices\n",
    "\n",
    "P = 100\n",
    "r = 5.0\n",
    "N = 10\n",
    "for n in range(N+1):            # range(stop)\n",
    "    A = P * (1+(r/100))**n\n",
    "    print(f'{n:2} {A:15.4f}')"
   ]
  },
  {
   "cell_type": "code",
   "execution_count": 9,
   "id": "f21cb0ae",
   "metadata": {},
   "outputs": [
    {
     "name": "stdout",
     "output_type": "stream",
     "text": [
      "  0        100.0000\n",
      "  1        105.0000\n",
      "  2        110.2500\n",
      "  3        115.7625\n",
      "  4        121.5506\n"
     ]
    }
   ],
   "source": [
    "for n in range(0, 5):             # range(start, stop)\n",
    "    A = P * (1+(r/100))**n\n",
    "    print(f' {n:2} {A:15.4f}')"
   ]
  },
  {
   "cell_type": "code",
   "execution_count": 11,
   "id": "074fe6fb",
   "metadata": {},
   "outputs": [
    {
     "name": "stdout",
     "output_type": "stream",
     "text": [
      "  2        110.2500\n",
      "  5        127.6282\n",
      "  8        147.7455\n"
     ]
    }
   ],
   "source": [
    "for n in range(2, 9, 3):             # range(start, stop, increment)\n",
    "    A = P * (1+(r/100))**n\n",
    "    print(f' {n:2} {A:15.4f}')"
   ]
  },
  {
   "cell_type": "code",
   "execution_count": 14,
   "id": "fdecf4a4",
   "metadata": {},
   "outputs": [
    {
     "name": "stdout",
     "output_type": "stream",
     "text": [
      "range(0, 3)\n",
      "[0, 1, 2]\n"
     ]
    }
   ],
   "source": [
    "print(range(3))\n",
    "print(list(range(3)))"
   ]
  },
  {
   "cell_type": "code",
   "execution_count": 19,
   "id": "8d97edc7",
   "metadata": {},
   "outputs": [
    {
     "name": "stdout",
     "output_type": "stream",
     "text": [
      "[100.0, 105.0, 110.25, 115.76250000000002, 121.55062500000003, 127.62815625000003, 134.00956406250003, 140.71004226562505, 147.7455443789063, 155.13282159785163, 162.8894626777442]\n"
     ]
    }
   ],
   "source": [
    "# Filling a list with values using a for loop\n",
    "\n",
    "P = 100\n",
    "r = 5.0\n",
    "N = 10\n",
    "amounts = []                        # start with empty list\n",
    "for n in range(N+1):\n",
    "    A = P * (1+(r/100))**n\n",
    "    amounts.append(A)               # add new element to amounts list\n",
    "print(amounts)"
   ]
  },
  {
   "cell_type": "code",
   "execution_count": 23,
   "id": "947f48a0",
   "metadata": {},
   "outputs": [
    {
     "name": "stdout",
     "output_type": "stream",
     "text": [
      "[1, 5, 14, 30, 55, 91, 140, 204, 285, 385, 506, 650, 819, 1015]\n"
     ]
    }
   ],
   "source": [
    "# mathematical sums are implemented as for loops\n",
    "\n",
    "N = 14\n",
    "S = 0\n",
    "Sums = []\n",
    "for i in range(1, N+1):\n",
    "    S += i**2\n",
    "    Sums.append(S)\n",
    "print(Sums)"
   ]
  },
  {
   "cell_type": "code",
   "execution_count": 25,
   "id": "316a42af",
   "metadata": {},
   "outputs": [
    {
     "name": "stdout",
     "output_type": "stream",
     "text": [
      "[1, 3, 12]\n"
     ]
    }
   ],
   "source": [
    "# How we can change the elements in a list\n",
    "\n",
    "v = [-1, 1, 10]\n",
    "for i in range(len(v)):\n",
    "    v[i] = v[i] + 2\n",
    "print(v)"
   ]
  },
  {
   "cell_type": "code",
   "execution_count": 26,
   "id": "95c4385a",
   "metadata": {},
   "outputs": [
    {
     "name": "stdout",
     "output_type": "stream",
     "text": [
      "[100.0, 102.49999999999999, 105.06249999999999, 107.68906249999996, 110.38128906249996, 113.14082128906244, 115.96934182128899, 118.86857536682123, 121.84028975099173, 124.88629699476652, 128.00845441963565]\n",
      "[100.0, 105.0, 110.25, 115.76250000000002, 121.55062500000003, 127.62815625000003, 134.00956406250003, 140.71004226562505, 147.7455443789063, 155.13282159785163, 162.8894626777442]\n"
     ]
    }
   ],
   "source": [
    "# List comprehensions for compact creation of lists\n",
    "\n",
    "P = 100\n",
    "r_low = 2.5\n",
    "r_high = 5.0\n",
    "N = 10\n",
    "A_high = []\n",
    "A_low = []\n",
    "for n in range(N+1):\n",
    "    A_low.append(P*(1+r_low/100)**n)\n",
    "    A_high.append(P*(1+r_high/100)**n)\n",
    "print(A_low)\n",
    "print(A_high)"
   ]
  },
  {
   "cell_type": "code",
   "execution_count": 10,
   "id": "9ea53caf",
   "metadata": {},
   "outputs": [
    {
     "name": "stdout",
     "output_type": "stream",
     "text": [
      "[100.0, 102.49999999999999, 105.06249999999999, 107.68906249999996, 110.38128906249996, 113.14082128906244, 115.96934182128899, 118.86857536682123, 121.84028975099173, 124.88629699476652, 128.00845441963565]\n",
      "[100.0, 105.0, 110.25, 115.76250000000002, 121.55062500000003, 127.62815625000003, 134.00956406250003, 140.71004226562505, 147.7455443789063, 155.13282159785163, 162.8894626777442]\n"
     ]
    }
   ],
   "source": [
    "# Using the list comprehension approach\n",
    "\n",
    "P = 100\n",
    "r_low = 2.5\n",
    "r_high = 5.0\n",
    "N = 10\n",
    "A_low = [(P*(1+r_low/100)**n) for n in range(N+1)]\n",
    "A_high = [(P*(1+r_high/100)**n) for n in range(N+1)]\n",
    "print(A_low)\n",
    "print(A_high)"
   ]
  },
  {
   "cell_type": "code",
   "execution_count": 30,
   "id": "876f1a8f",
   "metadata": {},
   "outputs": [
    {
     "name": "stdout",
     "output_type": "stream",
     "text": [
      "100.000000             100.0000\n",
      "102.500000             105.0000\n",
      "105.062500             110.2500\n",
      "107.689062             115.7625\n",
      "110.381289             121.5506\n",
      "113.140821             127.6282\n",
      "115.969342             134.0096\n",
      "118.868575             140.7100\n",
      "121.840290             147.7455\n",
      "124.886297             155.1328\n",
      "128.008454             162.8895\n"
     ]
    }
   ],
   "source": [
    "# Traversing multiple lists simultaneously with zip\n",
    "\n",
    "P = 100\n",
    "r_low = 2.5\n",
    "r_high = 5.0\n",
    "N = 10\n",
    "for i in range(len(A_low)):\n",
    "    print(f'{A_low[i]:4f} {A_high[i]:20.4f}')"
   ]
  },
  {
   "cell_type": "code",
   "execution_count": 11,
   "id": "8cfc5dea",
   "metadata": {},
   "outputs": [
    {
     "name": "stdout",
     "output_type": "stream",
     "text": [
      "100.000000             100.0000\n",
      "102.500000             105.0000\n",
      "105.062500             110.2500\n",
      "107.689062             115.7625\n",
      "110.381289             121.5506\n",
      "113.140821             127.6282\n",
      "115.969342             134.0096\n",
      "118.868575             140.7100\n",
      "121.840290             147.7455\n",
      "124.886297             155.1328\n",
      "128.008454             162.8895\n"
     ]
    }
   ],
   "source": [
    "# Using the zip approach method\n",
    "\n",
    "P = 100\n",
    "r_low = 2.5\n",
    "r_high = 5.0\n",
    "N = 10\n",
    "for low, high in zip(A_low, A_high):\n",
    "    print(f'{low:4f} {high:20.4f}')"
   ]
  },
  {
   "cell_type": "code",
   "execution_count": 34,
   "id": "f4166135",
   "metadata": {},
   "outputs": [
    {
     "name": "stdout",
     "output_type": "stream",
     "text": [
      "3.00                 1.50                 9.10\n",
      "6.00                 1.00                 3.00\n",
      "1.00                 0.00                 2.00\n",
      "5.00                12.00                 9.00\n"
     ]
    }
   ],
   "source": [
    "l1 =  [3, 6, 1, 5, 10, 28,45]\n",
    "l2 = [1.5, 1, 0, 12, 18]\n",
    "l3 = [9.1, 3, 2, 9.0]\n",
    "for e1, e2, e3 in zip(l1, l2, l3):\n",
    "    print(f'{e1:.2f} {e2:20.2f} {e3:20.2f}')"
   ]
  },
  {
   "cell_type": "code",
   "execution_count": 12,
   "id": "e4db6161",
   "metadata": {},
   "outputs": [
    {
     "name": "stdout",
     "output_type": "stream",
     "text": [
      "[100.0, 102.49999999999999, 105.06249999999999, 107.68906249999996, 110.38128906249996, 113.14082128906244, 115.96934182128899, 118.86857536682123, 121.84028975099173, 124.88629699476652, 128.00845441963565]\n",
      "[100.0, 105.0, 110.25, 115.76250000000002, 121.55062500000003, 127.62815625000003, 134.00956406250003, 140.71004226562505, 147.7455443789063, 155.13282159785163, 162.8894626777442]\n",
      "110.25\n"
     ]
    }
   ],
   "source": [
    "# 3.5 Nested Lists and List Slicing\n",
    "\n",
    "A_low = [P*(1+2.5/100)**n for n in range(11)]\n",
    "A_high = [P*(1+5.0/100)**n for n in range(11)]\n",
    "\n",
    "amounts = [A_low, A_high]                  # list of two lists\n",
    "\n",
    "print(amounts[0])                          # the A_low list\n",
    "print(amounts[1])                          # the A_high list\n",
    "print(amounts[1][2])                       # the 3rd element in A_high"
   ]
  },
  {
   "cell_type": "code",
   "execution_count": 48,
   "id": "c33d6b82",
   "metadata": {},
   "outputs": [
    {
     "name": "stdout",
     "output_type": "stream",
     "text": [
      "9\n",
      "7\n",
      "-1\n",
      "5\n",
      "6\n"
     ]
    }
   ],
   "source": [
    "L = [[9, 7], [-1, 5, 6]]\n",
    "for row in L:\n",
    "    for column in row:\n",
    "        print(column)"
   ]
  },
  {
   "cell_type": "code",
   "execution_count": 14,
   "id": "dbea351b",
   "metadata": {},
   "outputs": [
    {
     "name": "stdout",
     "output_type": "stream",
     "text": [
      "        0.75000000\n",
      "        0.29619813\n",
      "       -0.29619813\n",
      "       -0.75000000\n",
      "        0.29619813\n",
      "        0.11697778\n",
      "       -0.11697778\n",
      "       -0.29619813\n",
      "       -0.29619813\n",
      "       -0.11697778\n",
      "        0.11697778\n",
      "        0.29619813\n",
      "       -0.75000000\n",
      "       -0.29619813\n",
      "        0.29619813\n",
      "        0.75000000\n"
     ]
    }
   ],
   "source": [
    "data = \\\n",
    "[[ 0.75, 0.29619813, -0.29619813, -0.75 ],\n",
    "[ 0.29619813, 0.11697778, -0.11697778, -0.29619813],\n",
    "[-0.29619813, -0.11697778, 0.11697778, 0.29619813],\n",
    "[-0.75, -0.29619813, 0.29619813, 0.75 ]]\n",
    "\n",
    "for row in data:\n",
    "    for column in row:\n",
    "        print(f'{column:18.8f}')"
   ]
  },
  {
   "cell_type": "code",
   "execution_count": 26,
   "id": "183af49e",
   "metadata": {
    "scrolled": true
   },
   "outputs": [
    {
     "name": "stdout",
     "output_type": "stream",
     "text": [
      "[8, 10]\n",
      "[3.5, 8]\n",
      "[2, 3.5, 8]\n",
      "[3.5, 8]\n",
      "[2, 3.5, 8, 10]\n"
     ]
    }
   ],
   "source": [
    "# List slicing is used to extract parts of a list\n",
    "\n",
    "a = [2, 3.5, 8, 10]\n",
    "print(a[2:])\n",
    "print(a[1:3])\n",
    "print(a[:3])\n",
    "print(a[1:-1])\n",
    "print(a[:])"
   ]
  },
  {
   "cell_type": "code",
   "execution_count": 72,
   "id": "2fedac7b",
   "metadata": {},
   "outputs": [
    {
     "name": "stdout",
     "output_type": "stream",
     "text": [
      "6\n"
     ]
    }
   ],
   "source": [
    "# 3.6 Tuples\n",
    "\n",
    "t = (2, 4, 6, 'temp.pdf')                # define a tuple\n",
    "print (t[2])"
   ]
  },
  {
   "cell_type": "code",
   "execution_count": 75,
   "id": "370a301c",
   "metadata": {},
   "outputs": [
    {
     "name": "stdout",
     "output_type": "stream",
     "text": [
      "temp.pdf\n"
     ]
    }
   ],
   "source": [
    "t = 2, 4, 6, 'temp.pdf'                 # can skip the parentheses\n",
    "print(t[3])"
   ]
  },
  {
   "cell_type": "code",
   "execution_count": 79,
   "id": "b9df2151",
   "metadata": {},
   "outputs": [
    {
     "name": "stdout",
     "output_type": "stream",
     "text": [
      "(2, 4, 6, 'temp.pdf', -1.0, -2.0, -1.0, -2.0, -1.0, -2.0, -1.0, -2.0)\n",
      "4\n",
      "(6, 'temp.pdf', -1.0, -2.0, -1.0, -2.0, -1.0, -2.0, -1.0, -2.0)\n",
      "True\n"
     ]
    }
   ],
   "source": [
    "t = t + (-1.0, -2.0)\n",
    "print(t)\n",
    "print(t[1])\n",
    "print(t[2:])\n",
    "print(6 in t)"
   ]
  },
  {
   "cell_type": "code",
   "execution_count": 83,
   "id": "72d525dc",
   "metadata": {},
   "outputs": [
    {
     "name": "stdout",
     "output_type": "stream",
     "text": [
      "2\n",
      "4\n",
      "6\n",
      "temp.pdf\n",
      "-1.0\n",
      "-2.0\n",
      "-1.0\n",
      "-2.0\n",
      "-1.0\n",
      "-2.0\n",
      "-1.0\n",
      "-2.0\n"
     ]
    }
   ],
   "source": [
    "for tuple in t:\n",
    "    print(tuple)"
   ]
  },
  {
   "cell_type": "code",
   "execution_count": null,
   "id": "c512dbfc",
   "metadata": {},
   "outputs": [],
   "source": []
  }
 ],
 "metadata": {
  "kernelspec": {
   "display_name": "Python 3 (ipykernel)",
   "language": "python",
   "name": "python3"
  },
  "language_info": {
   "codemirror_mode": {
    "name": "ipython",
    "version": 3
   },
   "file_extension": ".py",
   "mimetype": "text/x-python",
   "name": "python",
   "nbconvert_exporter": "python",
   "pygments_lexer": "ipython3",
   "version": "3.10.9"
  }
 },
 "nbformat": 4,
 "nbformat_minor": 5
}
