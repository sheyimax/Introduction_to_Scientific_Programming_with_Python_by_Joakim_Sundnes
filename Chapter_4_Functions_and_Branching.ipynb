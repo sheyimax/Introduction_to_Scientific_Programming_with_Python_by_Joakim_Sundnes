{
 "cells": [
  {
   "cell_type": "code",
   "execution_count": 6,
   "id": "e07782c8",
   "metadata": {},
   "outputs": [
    {
     "name": "stdout",
     "output_type": "stream",
     "text": [
      "-1.5433290827962254\n"
     ]
    }
   ],
   "source": [
    "# 4.1 Programming with Functions\n",
    "\n",
    "from math import *\n",
    "y = sin(x)*log(x)\n",
    "print(y)"
   ]
  },
  {
   "cell_type": "code",
   "execution_count": 61,
   "id": "73b483a8",
   "metadata": {},
   "outputs": [
    {
     "name": "stdout",
     "output_type": "stream",
     "text": [
      "[1, -6, 6, 18, 1.5, 14]\n"
     ]
    }
   ],
   "source": [
    "# range reminder and len\n",
    "\n",
    "m = [1, -3, 6, 9, 1.5, 7]\n",
    "n = len(m)\n",
    "for i in range(1, n, 2):\n",
    "    m[i] = m[i] * 2\n",
    "print(m)"
   ]
  },
  {
   "cell_type": "code",
   "execution_count": 63,
   "id": "997454f0",
   "metadata": {},
   "outputs": [
    {
     "name": "stdout",
     "output_type": "stream",
     "text": [
      "[1, -6, 6, 18, 1.5, 14, 19, 19]\n"
     ]
    }
   ],
   "source": [
    "# Using append\n",
    "\n",
    "m.append(19)\n",
    "print(m)"
   ]
  },
  {
   "cell_type": "code",
   "execution_count": 79,
   "id": "135e2801",
   "metadata": {},
   "outputs": [
    {
     "name": "stdout",
     "output_type": "stream",
     "text": [
      "162.8894626777442 127.62815625000003\n",
      "134.00956406250003\n",
      "[100.0, 105.0, 110.25, 115.76250000000002, 121.55062500000003, 127.62815625000003, 134.00956406250003, 140.71004226562505, 147.7455443789063, 155.13282159785163, 162.8894626777442]\n"
     ]
    }
   ],
   "source": [
    "# How to write a function: from the previously formular A(n) = P(1 +r/100)n\n",
    "\n",
    "def amount(n):                                     # function header\n",
    "    P = 100                                        # function body\n",
    "    r = 5.0\n",
    "    return P*(1+r/100)**n   \n",
    "\n",
    "year1 = 10\n",
    "a1 = amount(year1)                                 # call\n",
    "a2 = amount(5)                                     # call\n",
    "\n",
    "print(a1, a2)\n",
    "print(amount(6))                                   # call\n",
    "\n",
    "a_list = [amount(year) for year in range(11)]      #multiple calls\n",
    "print(a_list)"
   ]
  },
  {
   "cell_type": "code",
   "execution_count": 101,
   "id": "fad40dc3",
   "metadata": {},
   "outputs": [
    {
     "name": "stdout",
     "output_type": "stream",
     "text": [
      "162.8894626777442\n",
      "126.53190184960003\n",
      "100.0\n"
     ]
    }
   ],
   "source": [
    "# 4.2 Function Arguments and Local Variables\n",
    "\n",
    "def amount(P, r, n):                            # define more than one arguments\n",
    "    return P*(1+r/100.0)**n\n",
    "\n",
    "# sample calls:\n",
    "a1 = amount(100, 5.0, 10)                       # positional arguments\n",
    "a2 = amount(10, r=3.0, n=6)                     # positional argument can be follow by keywords, vice versa will lead to an error)\n",
    "a3 = amount(r=5, n=0, P=100)                    # keywords arguments\n",
    "\n",
    "print(a1)\n",
    "print(a2)\n",
    "print(a3)"
   ]
  },
  {
   "cell_type": "code",
   "execution_count": 103,
   "id": "eb7c2bc4",
   "metadata": {},
   "outputs": [
    {
     "name": "stdout",
     "output_type": "stream",
     "text": [
      "140.71004226562505\n"
     ]
    }
   ],
   "source": [
    "# The difference between local and global variables\n",
    "\n",
    "P = 100                                  # global variable\n",
    "r = 5.0                                  # global variable\n",
    "\n",
    "def amount(n):\n",
    "    return P*(1+r/100)**n\n",
    "\n",
    "print(amount(7))"
   ]
  },
  {
   "cell_type": "code",
   "execution_count": 108,
   "id": "1d2e8de0",
   "metadata": {},
   "outputs": [
    {
     "name": "stdout",
     "output_type": "stream",
     "text": [
      "131.59317792358402\n",
      "5.0\n"
     ]
    }
   ],
   "source": [
    "P = 100                                  # global variable\n",
    "r = 5.0                                  # global variable\n",
    "\n",
    "def amount(n):\n",
    "    r = 4.0\n",
    "    return P*(1+r/100)**n\n",
    "\n",
    "print(amount(7))\n",
    "print(r)"
   ]
  },
  {
   "cell_type": "code",
   "execution_count": 110,
   "id": "c5238c4f",
   "metadata": {},
   "outputs": [
    {
     "name": "stdout",
     "output_type": "stream",
     "text": [
      "131.59317792358402\n",
      "4.0\n"
     ]
    }
   ],
   "source": [
    "# Not a better way to change a global variable\n",
    "\n",
    "P = 100\n",
    "r = 5.0\n",
    "\n",
    "def amount(n):\n",
    "    global r\n",
    "    r = 4.0\n",
    "    return P*(1+r/100)**n\n",
    "\n",
    "print(amount(7))\n",
    "print(r)"
   ]
  },
  {
   "cell_type": "code",
   "execution_count": 138,
   "id": "43bc9749",
   "metadata": {},
   "outputs": [
    {
     "name": "stdout",
     "output_type": "stream",
     "text": [
      "131.59317792358402 4.0\n"
     ]
    }
   ],
   "source": [
    "# The best way to change a global variable\n",
    "\n",
    "P = 100\n",
    "r = 5.0\n",
    "\n",
    "def amount(n, r):\n",
    "    r = r - 1.0\n",
    "    a = P*(1+r/100)**n\n",
    "    return a, r\n",
    "a, r = amount(7, r)\n",
    "print(a, r)"
   ]
  },
  {
   "cell_type": "code",
   "execution_count": 150,
   "id": "a5f45718",
   "metadata": {},
   "outputs": [
    {
     "name": "stdout",
     "output_type": "stream",
     "text": [
      "0.034199999999999786 -2.886\n",
      "<class 'float'>\n",
      "(0.034199999999999786, -2.886)\n",
      "<class 'tuple'>\n"
     ]
    }
   ],
   "source": [
    "# Multiple return values are returned as a tuple\n",
    "\n",
    "def yfunc(t, v0):\n",
    "    g = 9.81\n",
    "    y = v0*t - 0.5*g*t**2\n",
    "    dydt = v0 - g*t\n",
    "    return y, dydt\n",
    "\n",
    "# call:\n",
    "position, velocity = yfunc(0.6, 3)             # float call\n",
    "pos_vel  = yfunc(0.6, 3)                       # tuple call\n",
    "\n",
    "print(position, velocity)\n",
    "print(type(position))\n",
    "print(pos_vel)\n",
    "print(type(pos_vel))"
   ]
  },
  {
   "cell_type": "code",
   "execution_count": 156,
   "id": "f674b81b",
   "metadata": {},
   "outputs": [
    {
     "name": "stdout",
     "output_type": "stream",
     "text": [
      "<class 'tuple'> (2, 4, 16)\n",
      "2 4 16\n"
     ]
    }
   ],
   "source": [
    "# a function returning three arguments\n",
    "\n",
    "def f(x):\n",
    "    return x, x**2, x**4\n",
    "\n",
    "s = f(2)\n",
    "\n",
    "print(type(s), s)\n",
    "\n",
    "# unpacking the tuple\n",
    "x, x2, x4 = s\n",
    "print(x, x2, x4)"
   ]
  },
  {
   "cell_type": "code",
   "execution_count": 158,
   "id": "d1fc6bfd",
   "metadata": {},
   "outputs": [
    {
     "name": "stdout",
     "output_type": "stream",
     "text": [
      "0.6666666666666666 0.6930648561507935 0.6931471805599453\n"
     ]
    }
   ],
   "source": [
    "#  A function to compute a sum\n",
    "\n",
    "def L(x, n):\n",
    "    s = 0\n",
    "    for i in range(1, n+1):\n",
    "        s += x**i/i\n",
    "    return s\n",
    "\n",
    "#example use\n",
    "x = 0.5\n",
    "from math import log\n",
    "print(L(x, 3), L(x, 10), -log(1-x))"
   ]
  },
  {
   "cell_type": "code",
   "execution_count": 175,
   "id": "b55ef2ca",
   "metadata": {},
   "outputs": [
    {
     "name": "stdout",
     "output_type": "stream",
     "text": [
      "0.6930648561507935 8.232440915179051e-05\n"
     ]
    }
   ],
   "source": [
    "# for function to returned the error of the approximation, i.e -ln(1-x)-L(x;n)\n",
    "\n",
    "from math import log\n",
    "\n",
    "def L2(x, n):\n",
    "    s = 0\n",
    "    for i in range(1, n+1):\n",
    "        s += x**i/i\n",
    "    value_of_sum = s\n",
    "    \n",
    "    error = -log(1-x) - value_of_sum\n",
    "    return value_of_sum, error\n",
    "\n",
    "# typical call\n",
    "x = 0.5;  n = 10\n",
    "value, error = L2(x, n)\n",
    "\n",
    "print(value, error)"
   ]
  },
  {
   "cell_type": "code",
   "execution_count": 178,
   "id": "f940553a",
   "metadata": {},
   "outputs": [],
   "source": [
    "# A function does not need a return statement.. table\n",
    "\n",
    "def table(x):\n",
    "    print(f'x={x}, -ln(1-x)={-log(1-x)}')\n",
    "    for n in [1, 2, 10, 100]:\n",
    "        value, error = L2(x, n)\n",
    "        print(f' n={n:4} approx: {value:7.6f}, error: {error:7.6f}')\n",
    "    \n",
    "    table(0.5)"
   ]
  },
  {
   "cell_type": "code",
   "execution_count": 189,
   "id": "c84dd4ba",
   "metadata": {},
   "outputs": [
    {
     "name": "stdout",
     "output_type": "stream",
     "text": [
      "Hello [1, 2] True 0\n",
      "Hello [1, 2] Hi 0\n",
      "Hello [1, 2] Hi 6\n",
      "Hello [1, 2] True Hi\n",
      "Hello [1, 2] 6 Hi\n"
     ]
    }
   ],
   "source": [
    "# 4.3 Default Arguments and Doc Strings\n",
    "\n",
    "def somefunc(arg1, arg2, kwarg1=True, kwarg2=0):\n",
    "    print(arg1, arg2, kwarg1, kwarg2)\n",
    "    \n",
    "somefunc('Hello', [1,2])                 # drop kwarg1 and kwarg2\n",
    "somefunc('Hello', [1,2], 'Hi')           # kwarg2 has a default\n",
    "somefunc('Hello', [1,2], 'Hi', 6)        # all values changed\n",
    "somefunc('Hello', [1,2], kwarg2='Hi')    # kwarg1 has default value\n",
    "somefunc('Hello', [1,2], kwarg2='Hi', kwarg1=6)   # specify all args"
   ]
  },
  {
   "cell_type": "code",
   "execution_count": 193,
   "id": "1f0e760e",
   "metadata": {},
   "outputs": [
    {
     "name": "stdout",
     "output_type": "stream",
     "text": [
      "0.8038 3.038\n",
      "1.3037999999999998 5.538\n",
      "1.3 5.5\n"
     ]
    }
   ],
   "source": [
    "# defining the formula y(t) = v0t - 1/2gt2\n",
    "\n",
    "def yfunc(t, v0=5, g=9.81):\n",
    "    y = v0*t - 0.5*g*t**2\n",
    "    dydt = v0 - g*t\n",
    "    return y, dydt\n",
    "\n",
    "#example calls:\n",
    "y1, dy1 = yfunc(0.2)\n",
    "y2, dy2 = yfunc(0.2, v0=7.5)\n",
    "y3, dy3 = yfunc(0.2, 7.5, 10.0)\n",
    "\n",
    "print(y1, dy1)\n",
    "print(y2, dy2)\n",
    "print(y3, dy3)"
   ]
  },
  {
   "cell_type": "code",
   "execution_count": 195,
   "id": "97d4d793",
   "metadata": {},
   "outputs": [],
   "source": [
    "# Documentation of Python function\n",
    "\n",
    "def amount(P, r, n):\n",
    "    \"\"\"Compute the growth of an investment over line\"\"\"\n",
    "    a = P*(1+r/100)**n\n",
    "    return n\n",
    "\n",
    "def line(x0, y0, x1, y1):\n",
    "    \"\"\"\n",
    "    Compute the coefficient a and b in the mathemeatical\n",
    "    expression for a straight line y = a*x + b that goes\n",
    "    through two points (x0, y0) and (x1, y1)\n",
    "    \n",
    "    x0, y0: a point on the line (floats).\n",
    "    x1, y1: another point on the line (floats).\n",
    "    return: a, b (floats) for the line (y=a*x+b)\n",
    "    \"\"\"\n",
    "    \n",
    "    a = (y1 - y0)/(x1 - x0)\n",
    "    b = y0 - a*x0\n",
    "    return a, b\n"
   ]
  },
  {
   "cell_type": "code",
   "execution_count": 202,
   "id": "b8fa8e83",
   "metadata": {},
   "outputs": [
    {
     "name": "stdout",
     "output_type": "stream",
     "text": [
      "0.479425538604203\n",
      "0\n"
     ]
    }
   ],
   "source": [
    "# 4.4 If-Tests for Branching the Program Flow\n",
    "\n",
    "from math import sin, pi\n",
    "\n",
    "def f(x):\n",
    "    if 0 <= x <= pi:\n",
    "        return sin(x)\n",
    "    else:\n",
    "        return 0\n",
    "    \n",
    "print(f(0.5))\n",
    "print(f(5*pi))"
   ]
  },
  {
   "cell_type": "code",
   "execution_count": 206,
   "id": "eb7a466a",
   "metadata": {},
   "outputs": [
    {
     "name": "stdout",
     "output_type": "stream",
     "text": [
      "0\n",
      "0.5\n",
      "0.5\n",
      "0\n"
     ]
    }
   ],
   "source": [
    "# Using if and elif function for linear piecewise function\n",
    "\n",
    "def N(x):\n",
    "    if x < 0:\n",
    "        return 0\n",
    "    elif 0 <= x <= 1:\n",
    "        return x\n",
    "    elif 1 <= x < 2:\n",
    "        return 2 - x\n",
    "    elif x >= 2:\n",
    "        return 0\n",
    "\n",
    "print(N(-2))\n",
    "print(N(0.5))\n",
    "print(N(1.5))\n",
    "print(N(3))"
   ]
  },
  {
   "cell_type": "code",
   "execution_count": 208,
   "id": "ec2f5a68",
   "metadata": {},
   "outputs": [
    {
     "name": "stdout",
     "output_type": "stream",
     "text": [
      "0.479425538604203\n",
      "0\n"
     ]
    }
   ],
   "source": [
    "# Inline if-tests for shorter code for example in 4.4\n",
    "\n",
    "def f(x):\n",
    "    return (sin(x) if 0 <= x <= pi else 0)\n",
    "\n",
    "print(f(0.5))\n",
    "print(f(5*pi))"
   ]
  },
  {
   "cell_type": "code",
   "execution_count": 215,
   "id": "bbbb44d3",
   "metadata": {},
   "outputs": [
    {
     "name": "stdout",
     "output_type": "stream",
     "text": [
      "1.999733711954832\n"
     ]
    }
   ],
   "source": [
    "# 4.5 Functions as Arguments to Functions\n",
    "\n",
    "def diff2(f, x, h=1E-6):\n",
    "    r = (f(x-h) - 2*f(x) + f(x+h))/float(h*h)\n",
    "    return r\n",
    "\n",
    "def f(x):\n",
    "    return x**2 - 1\n",
    "\n",
    "df2 = diff2(f, 1.5)\n",
    "\n",
    "print(df2)"
   ]
  },
  {
   "cell_type": "code",
   "execution_count": 216,
   "id": "f59e36f8",
   "metadata": {},
   "outputs": [
    {
     "name": "stdout",
     "output_type": "stream",
     "text": [
      "1.999733711954832\n"
     ]
    }
   ],
   "source": [
    "# Lambda functions for compact inline function definitions\n",
    "\n",
    "def f(x):\n",
    "    return x**2 - 1\n",
    "\n",
    "df2 = diff2(f, 1.5)\n",
    "\n",
    "print(df2)"
   ]
  },
  {
   "cell_type": "code",
   "execution_count": 218,
   "id": "d4a2c3bd",
   "metadata": {},
   "outputs": [
    {
     "name": "stdout",
     "output_type": "stream",
     "text": [
      "1.999733711954832\n"
     ]
    }
   ],
   "source": [
    "# Now lets use the lambda function\n",
    "\n",
    "def diff2(f, x, h=1E-6):\n",
    "    r = (f(x-h) - 2*f(x) + f(x+h))/float(h*h)\n",
    "    return r\n",
    "\n",
    "f = lambda x: x**2 - 1 \n",
    "\n",
    "df2 = diff2(f, 1.5)\n",
    "\n",
    "print(df2)"
   ]
  },
  {
   "cell_type": "code",
   "execution_count": 220,
   "id": "4e4e4046",
   "metadata": {},
   "outputs": [
    {
     "name": "stdout",
     "output_type": "stream",
     "text": [
      "1.999733711954832\n"
     ]
    }
   ],
   "source": [
    "# To reduce the code longetivity for the lambda function\n",
    "\n",
    "def diff2(f, x, h=1E-6):\n",
    "    r = (f(x-h) - 2*f(x) + f(x+h))/float(h*h)\n",
    "    return r \n",
    "\n",
    "df2 = diff2(lambda x: x**2 - 1, 1.5)\n",
    "\n",
    "print(df2)"
   ]
  },
  {
   "cell_type": "code",
   "execution_count": 222,
   "id": "54ab4b16",
   "metadata": {},
   "outputs": [
    {
     "name": "stdout",
     "output_type": "stream",
     "text": [
      "x = 0.213348 is an approximate root, f(0.213348) = -3.41372e-07\n"
     ]
    }
   ],
   "source": [
    "# 4.6 Solving Equations with Python Functions\n",
    "\n",
    "from math import exp\n",
    "\n",
    "def bisection(f, a, b, tol=1e-3):\n",
    "    if f(a)*f(b) > 0:\n",
    "        print(f'No roots or more than one root in [{a}, {b}]')\n",
    "        return \n",
    "    \n",
    "    m = (a+b)/2\n",
    "    \n",
    "    while abs(f(m)) > tol:\n",
    "        if f(a)*f(m) < 0:\n",
    "            b = m\n",
    "        else:\n",
    "            a = m\n",
    "        m = (a+b)/2\n",
    "    return m\n",
    "\n",
    "#call the method for f(x)= x**2-4*x+exp(-x)\n",
    "f = lambda x: x**2-4*x+exp(-x)\n",
    "sol = bisection(f, -0.5, 1, 1e-6)\n",
    "\n",
    "print(f'x = {sol:g} is an approximate root, f({sol:g}) = {f(sol):g}')"
   ]
  },
  {
   "cell_type": "code",
   "execution_count": 224,
   "id": "d212c732",
   "metadata": {},
   "outputs": [
    {
     "name": "stdout",
     "output_type": "stream",
     "text": [
      "x = 0.213348 is an approximate root, f(0.213348) = 4.52213e-09\n"
     ]
    }
   ],
   "source": [
    "# Newton’s method gives faster convergence\n",
    "\n",
    "from math import exp\n",
    "\n",
    "def Newton(f, dfdx, x0, tol=1e-3):\n",
    "    f0 = f(x0)\n",
    "    while abs(f0) > tol:\n",
    "        x1 = x0 - f0/dfdx(x0)\n",
    "        x0 = x1\n",
    "        f0 = f(x0)\n",
    "    return x0\n",
    "\n",
    "#call the method for f(x)= x**2-4*x+exp(-x)\n",
    "f = lambda x: x**2-4*x+exp(-x)\n",
    "dfdx = lambda x: 2*x-4-exp(-x)\n",
    "\n",
    "sol = Newton(f, dfdx, 0, 1e-6)\n",
    "\n",
    "print(f'x = {sol:g} is an approximate root, f({sol:g}) = {f(sol):g}')"
   ]
  },
  {
   "cell_type": "code",
   "execution_count": 229,
   "id": "ad76cfe3",
   "metadata": {},
   "outputs": [
    {
     "name": "stdout",
     "output_type": "stream",
     "text": [
      "Newtons method converged in 2 iterations\n"
     ]
    }
   ],
   "source": [
    "# How to improve the implementation is to stop the method after a given number of iterations:\n",
    "\n",
    "from math import exp\n",
    "\n",
    "def Newton2(f, dfdx, x0, max_it=20, tol=1e-3):\n",
    "    f0 = f(x0)\n",
    "    iter = 0\n",
    "    while abs(f0) > tol and iter < max_it:\n",
    "        x1 = x0 - f0/dfdx(x0)\n",
    "        x0 = x1\n",
    "        f0 = f(x0)\n",
    "        iter += 1\n",
    "        \n",
    "    converged = iter < max_it\n",
    "    return x0, converged, iter\n",
    "\n",
    "#call the methos for f(x)= x**2-4*x+exp(-x)\n",
    "f = lambda x: x**2-4*x+exp(-x)\n",
    "dfdx = lambda x: 2*x-4-exp(-x)\n",
    "\n",
    "sol, converged, iter = Newton2(f, dfdx, 0, tol=1e-3)\n",
    "\n",
    "if converged:\n",
    "    print(f'Newtons method converged in {iter} iterations')\n",
    "else:\n",
    "    print(f'The method did not converge')"
   ]
  },
  {
   "cell_type": "code",
   "execution_count": 251,
   "id": "2338a60a",
   "metadata": {},
   "outputs": [],
   "source": [
    "# 4.7 Writing Test Functions to Verify our Programs\n",
    "\n",
    "def double(x):                                         # some function\n",
    "    return 2*x\n",
    "\n",
    "def text_double():                                     # associated test function\n",
    "    x = 4                                              # some chosen x value\n",
    "    expected = 8                                       # expected result from double(x)\n",
    "    computed = double(x)\n",
    "    sucess = computed == expected                      #Boolean value: text passed?\n",
    "    msg = f'computed {computed}, expected {expected}'\n",
    "    assert success, msg"
   ]
  },
  {
   "cell_type": "code",
   "execution_count": 245,
   "id": "7d9eaeb9",
   "metadata": {},
   "outputs": [],
   "source": [
    "# Test function with multiple tests\n",
    "\n",
    "from math import sin, pi\n",
    "\n",
    "def f(x):\n",
    "    if 0 <= x <= pi:\n",
    "        return sin(x)\n",
    "    else:\n",
    "        return 0\n",
    "    \n",
    "def test_f():\n",
    "    x1, exp1 = -1.0, 0.0\n",
    "    x2, exp2 = pi/2, 1.0\n",
    "    x3, exp3 = 3.5, 0.0\n",
    "    \n",
    "    tol = 1e-10\n",
    "    assert abs(f(x1)-exp1) < tol, f'Failed for x ={x1}'\n",
    "    assert abs(f(x2)-exp2) < tol, f'Failed for x ={x2}'\n",
    "    assert abs(f(x3)-exp3) < tol, f'Failed for x ={x3}'"
   ]
  },
  {
   "cell_type": "code",
   "execution_count": 2,
   "id": "fcded69e",
   "metadata": {},
   "outputs": [],
   "source": [
    "# Using lists and a for loop for assert\n",
    "\n",
    "from math import sin, pi\n",
    "\n",
    "def f(x):\n",
    "    if 0 <= x <= pi:\n",
    "        return sin(x)\n",
    "    else:\n",
    "        return 0\n",
    "    \n",
    "def test_f():\n",
    "    x_vals = [-1, pi/2, 3.5]\n",
    "    exp_vals = [0.0, 1.0, 0.0]\n",
    "    tol = 1e-10\n",
    "    for x, exp in zip(x_vals, exp_vals):\n",
    "        assert abs(f(x)-exp) < tol, \\\n",
    "            f'Failes for x = {x}, expected {exp}, but got {f(x)}'"
   ]
  },
  {
   "cell_type": "code",
   "execution_count": null,
   "id": "c3e24089",
   "metadata": {},
   "outputs": [],
   "source": []
  }
 ],
 "metadata": {
  "kernelspec": {
   "display_name": "Python 3 (ipykernel)",
   "language": "python",
   "name": "python3"
  },
  "language_info": {
   "codemirror_mode": {
    "name": "ipython",
    "version": 3
   },
   "file_extension": ".py",
   "mimetype": "text/x-python",
   "name": "python",
   "nbconvert_exporter": "python",
   "pygments_lexer": "ipython3",
   "version": "3.10.9"
  }
 },
 "nbformat": 4,
 "nbformat_minor": 5
}
